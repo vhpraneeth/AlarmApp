{
  "nbformat": 4,
  "nbformat_minor": 0,
  "metadata": {
    "colab": {
      "name": "Submarine Notebook.ipynb",
      "provenance": [],
      "collapsed_sections": [],
      "authorship_tag": "ABX9TyMZRABEgkvl1jEuAQn/x6Qp",
      "include_colab_link": true
    },
    "kernelspec": {
      "name": "python3",
      "display_name": "Python 3"
    },
    "language_info": {
      "name": "python"
    }
  },
  "cells": [
    {
      "cell_type": "markdown",
      "metadata": {
        "id": "view-in-github",
        "colab_type": "text"
      },
      "source": [
        "<a href=\"https://colab.research.google.com/github/vh-praneeth/AlarmApp/blob/master/Submarine_Notebook.ipynb\" target=\"_parent\"><img src=\"https://colab.research.google.com/assets/colab-badge.svg\" alt=\"Open In Colab\"/></a>"
      ]
    },
    {
      "cell_type": "markdown",
      "metadata": {
        "id": "il9GnfLx7L9i"
      },
      "source": [
        "### Get the code"
      ]
    },
    {
      "cell_type": "code",
      "metadata": {
        "id": "s7n52UFxpPcz",
        "colab": {
          "base_uri": "https://localhost:8080/"
        },
        "outputId": "25ac4125-a9e5-48da-a1df-a30bf2498fd7"
      },
      "source": [
        "%%bash\n",
        "cd /content  # Go to home folder. Clone repository\n",
        "git clone https://github.com/vh-praneeth/Submarine_cable_route 2> /dev/null\n",
        "echo 'Cloned successfully. Here are the files'\n",
        "echo '---------------------------------------'\n",
        "ls Submarine_cable_route"
      ],
      "execution_count": null,
      "outputs": [
        {
          "output_type": "stream",
          "text": [
            "Cloned successfully. Here are the files\n",
            "---------------------------------------\n",
            "docs\n",
            "git_push.sh\n",
            "images\n",
            "matrix.txt\n",
            "old_files\n",
            "README.md\n",
            "RouteFinder.java\n",
            "Submarine_Notebook.ipynb\n"
          ],
          "name": "stdout"
        }
      ]
    },
    {
      "cell_type": "code",
      "metadata": {
        "id": "vgw7sK5T5ko5",
        "colab": {
          "base_uri": "https://localhost:8080/"
        },
        "outputId": "fc5bb9f7-786d-4c8b-dfa7-d7c7be1619bd"
      },
      "source": [
        "# go to project folder\n",
        "%cd Submarine_cable_route"
      ],
      "execution_count": null,
      "outputs": [
        {
          "output_type": "stream",
          "text": [
            "/content/Submarine_cable_route\n"
          ],
          "name": "stdout"
        }
      ]
    },
    {
      "cell_type": "markdown",
      "metadata": {
        "id": "x2IcvlE9m4_w"
      },
      "source": [
        "### Save code in file"
      ]
    },
    {
      "cell_type": "code",
      "metadata": {
        "colab": {
          "base_uri": "https://localhost:8080/"
        },
        "id": "aGD16iE1lRa2",
        "outputId": "13f31670-9868-4d3c-8757-1dd9d2e7b2d7"
      },
      "source": [
        "%%writefile RouteFinder.java\n",
        "\n",
        "import java.util.*;\n",
        "import java.io.File;\n",
        "\n",
        "class RouteFinder\t{\n",
        "\tstatic int[][] arr;\n",
        "\tpublic static void main(String[] args)\t{\n",
        "\t\tboolean status = read_data();\n",
        "\t\tif (status != true)\n",
        "\t\t\treturn;\n",
        "\t\tHashMap<Integer, String> hm = new HashMap<Integer, String>();\n",
        "\t\thm.put(0, \"Mumbai\");\n",
        "\t\thm.put(1, \"Chennai\");\n",
        "\t\thm.put(2, \"Singapore\");\n",
        "\t\thm.put(3, \"Japan\");\n",
        "\t\thm.put(4, \"USA\");\n",
        "\t\t// display all nodes from hashmap\n",
        "\t\tSystem.out.println(\"\");\n",
        "\t\tfor (int num: hm.keySet())\n",
        "            System.out.println(\"\\t\" + num + \" - \" + hm.get(num));\n",
        "\t\tSystem.out.println(\"\");\n",
        "\n",
        "\t\tScanner scan = new Scanner(System.in);\n",
        "\t\tSystem.out.print(\"Enter your target: \");\n",
        "\t\tint target = scan.nextInt();\n",
        "\t\tscan.close();\n",
        "\n",
        "\t\tDijkstrasAlgorithm d = new DijkstrasAlgorithm();\n",
        "\t\td.process(target, arr, hm);\n",
        "\t\tSystem.out.println(\"\");\n",
        "\t}\n",
        "\tstatic boolean read_data() {\n",
        "\t\ttry {\n",
        "\t\t\tScanner sc = new Scanner(new File(\"matrix.txt\"));\n",
        "\t\t\tint rows = 0;\n",
        "\t\t\twhile (sc.hasNextLine()) {\n",
        "\t\t\t\trows++;  // count rows\n",
        "\t\t\t\tsc.nextLine();\n",
        "\t\t\t}\n",
        "\t\t\tint columns = rows;\n",
        "\t\t\tarr = new int[rows][columns];\n",
        "\t\t\tsc.close();\n",
        "\n",
        "\t\t\t// read in the data\n",
        "\t\t\tsc = new Scanner(new File(\"matrix.txt\"));\n",
        "\t\t\tfor (int row = 0; row < rows; row++)\n",
        "\t\t\t\tfor (int col = 0; col < columns; col++)\n",
        "\t\t\t\t\tif (sc.hasNextInt())\n",
        "\t\t\t\t\t\tarr[row][col] = sc.nextInt();\n",
        "\t\t\tsc.close();\n",
        "\n",
        "\t\t\treturn true;\n",
        "\t\t} catch (Exception e) {\n",
        "\t\t\tSystem.out.println(\"Sorry... matrix file not found\");\n",
        "\t\t\treturn false;\n",
        "\t\t}\n",
        "\t}\n",
        "}\n",
        "\n",
        "\n",
        "\n",
        "class DijkstrasAlgorithm {\n",
        "\n",
        "static int NO_PARENT = -1;\n",
        "static HashMap<Integer, String> hm;\n",
        "static int target_node;\n",
        "\n",
        "// Function that implements Dijkstra's\n",
        "// single source shortest path\n",
        "// algorithm for a graph represented\n",
        "// using adjacency matrix representation\n",
        "static void dijkstra(int[][] matrix, int startVertex)  {\n",
        "    int numNodes = matrix[0].length;\n",
        "\n",
        "    // shortestDists[i] will hold the\n",
        "    // shortest distance from src to i\n",
        "    int[] shortestDists = new int[numNodes];\n",
        "\n",
        "    // added[i] will true if vertex i is\n",
        "    // included / in shortest path tree\n",
        "    // or shortest distance from src to\n",
        "    // i is finalized\n",
        "    boolean[] added = new boolean[numNodes];\n",
        "\n",
        "    // Initialize all distances as INFINITE and added[] as false\n",
        "    for (int nodeIndex = 0;\n",
        "            nodeIndex < numNodes; nodeIndex++) {\n",
        "        shortestDists[nodeIndex] = Integer.MAX_VALUE;\n",
        "        added[nodeIndex] = false;\n",
        "    }\n",
        "    \n",
        "    // Distance of source vertex from itself is always 0\n",
        "    shortestDists[startVertex] = 0;\n",
        "\n",
        "    // Parent array to store shortest path tree\n",
        "    int[] parentArr = new int[numNodes];\n",
        "\n",
        "    // The starting vertex does not have a parent\n",
        "    parentArr[startVertex] = NO_PARENT;\n",
        "\n",
        "    // Find shortest path for all vertices\n",
        "    for (int i = 1; i < numNodes; i++) {\n",
        "\n",
        "        // Pick the minimum distance vertex\n",
        "        // from the set of unprocessed vertices\n",
        "        // nearestVertex is always equal\n",
        "        // to startNode in first iteration.\n",
        "        int nearestVertex = -1;\n",
        "        int shortestDist = Integer.MAX_VALUE;\n",
        "        for (int nodeIndex = 0; nodeIndex < numNodes;\n",
        "                \tnodeIndex++)  {\n",
        "            if (!added[nodeIndex]\n",
        "                    && shortestDists[nodeIndex] <\n",
        "                    shortestDist) {\n",
        "                nearestVertex = nodeIndex;\n",
        "                shortestDist = shortestDists[nodeIndex];\n",
        "            }\n",
        "        }\n",
        "\n",
        "        // Mark the picked vertex as processed\n",
        "        added[nearestVertex] = true;\n",
        "\n",
        "        // Update dist value of the adjacent\n",
        "        // vertices of the picked vertex.\n",
        "        for (int nodeIndex = 0; nodeIndex < numNodes; nodeIndex++) {\n",
        "            int edgeDistance = matrix[nearestVertex][nodeIndex];\n",
        "            \n",
        "            // if current shortest dist < existing shortest dist, update array\n",
        "            if (edgeDistance > 0\n",
        "                    && (shortestDist + edgeDistance <\n",
        "                    shortestDists[nodeIndex])) {\n",
        "                parentArr[nodeIndex] = nearestVertex;\n",
        "                shortestDists[nodeIndex] = \n",
        "                        shortestDist + edgeDistance;\n",
        "            }\n",
        "        }\n",
        "    }\n",
        "    printSolution(startVertex, shortestDists, parentArr);\n",
        "}\n",
        "\n",
        "// A utility function to print the constructed\n",
        "// distances array and shortest paths\n",
        "static void printSolution(int startVertex,\n",
        "                            int[] distances,\n",
        "                            int[] parentArr)  {\n",
        "    int numNodes = distances.length;\n",
        "    System.out.print(\"    Vertex\\t\\tDistance\\tPath\");\n",
        "    \n",
        "    for (int nodeIndex = 0;\n",
        "            \tnodeIndex < numNodes; nodeIndex++)  {\n",
        "        if (nodeIndex != startVertex)  {\n",
        "            System.out.print(\"\\n\" + startVertex);\n",
        "\t\t\tSystem.out.print(\" -> \" + nodeIndex + \" \");\n",
        "            System.out.print(hm.get(nodeIndex) + \" \\t\\t \");\n",
        "            System.out.print(distances[nodeIndex] + \"\\t\\t\");\n",
        "            printPath(nodeIndex, parentArr);\n",
        "\t\t\tif (target_node == nodeIndex)\n",
        "\t\t\t\tSystem.out.print(\"<- target\");\n",
        "        }\n",
        "    }\n",
        "}\n",
        "\n",
        "// Function to print shortest path from \n",
        "// source to curNode using parentArr array\n",
        "static void printPath(int curNode, int[] parentArr) {\n",
        "    // Source node has been processed\n",
        "    if (curNode == NO_PARENT)\n",
        "        return;\n",
        "    printPath(parentArr[curNode], parentArr);\n",
        "    System.out.print(curNode + \" - \");\n",
        "}\n",
        "\n",
        "static void process(int target1, int[][] matrix, HashMap<Integer, String> hm1)   {\n",
        "\ttarget_node = target1;\n",
        "    hm = hm1;\n",
        "    dijkstra(matrix, 0);\n",
        "}\n",
        "\n",
        "// public static void main(String[] args) {\n",
        "//     int[][] matrix = {\n",
        "//         {0, 1, 6, 0, 0},\n",
        "//         {1, 0, 6, 0, 0},\n",
        "//         {0, 1, 0, 6, 9},\n",
        "//         {0, 2, 6, 0, 5},\n",
        "//         {7, 0, 0, 0, 0}\n",
        "//     };\n",
        "//     dijkstra(matrix, 0);\n",
        "//     System.out.println(\"\");\n",
        "// }\n",
        "}"
      ],
      "execution_count": null,
      "outputs": [
        {
          "output_type": "stream",
          "text": [
            "Writing RouteFinder.java\n"
          ],
          "name": "stdout"
        }
      ]
    },
    {
      "cell_type": "code",
      "metadata": {
        "colab": {
          "base_uri": "https://localhost:8080/"
        },
        "id": "AYTIwpszmPPX",
        "outputId": "8ac65434-520b-4f6a-a03a-d11a01eae654"
      },
      "source": [
        "%%writefile matrix.txt\n",
        "0 1 6 0 0\n",
        "1 0 6 0 0\n",
        "0 1 0 6 9\n",
        "0 2 6 0 5\n",
        "7 0 0 0 0"
      ],
      "execution_count": null,
      "outputs": [
        {
          "output_type": "stream",
          "text": [
            "Writing matrix.txt\n"
          ],
          "name": "stdout"
        }
      ]
    },
    {
      "cell_type": "markdown",
      "metadata": {
        "id": "8HoLhOQUp3gj"
      },
      "source": [
        "### Running code"
      ]
    },
    {
      "cell_type": "code",
      "metadata": {
        "colab": {
          "base_uri": "https://localhost:8080/"
        },
        "id": "nDIVfH-ImMb8",
        "outputId": "c3bf9010-1a25-415b-a8ce-13d58ac502d9"
      },
      "source": [
        "!java RouteFinder.java"
      ],
      "execution_count": null,
      "outputs": [
        {
          "output_type": "stream",
          "text": [
            "\n",
            "\t0 - Mumbai\n",
            "\t1 - Chennai\n",
            "\t2 - Singapore\n",
            "\t3 - Japan\n",
            "\t4 - USA\n",
            "\n",
            "Enter your target: 3\n",
            "    Vertex\t\tDistance\tPath\n",
            "0 -> 1 Chennai \t\t 1\t\t0 - 1 - \n",
            "0 -> 2 Singapore \t\t 6\t\t0 - 2 - \n",
            "0 -> 3 Japan \t\t 12\t\t0 - 2 - 3 - <- target\n",
            "0 -> 4 USA \t\t 15\t\t0 - 2 - 4 - \n"
          ],
          "name": "stdout"
        }
      ]
    }
  ]
}